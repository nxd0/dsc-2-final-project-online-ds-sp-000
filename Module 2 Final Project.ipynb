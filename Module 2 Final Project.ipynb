{
 "cells": [
  {
   "cell_type": "markdown",
   "metadata": {},
   "source": [
    "# Module 2 Final Project Submission\n",
    "\n",
    "Student name: Noah X. Deutsch (Self-Paced)\n",
    "\n",
    "## Project Overview\n",
    "\n",
    "\n",
    "### Objective\n",
    "\n",
    "Working with the Northwind database, the goal of this project is to answer the question: **Do discounts have a statistically significant effect on the number of products customers order? If so, at what level(s) of discount?** \n",
    "\n",
    "Additionally, I was tasked with coming up with at least 3 other questions to test on my own. I chose the following questions, which I thought might yield answers that would add nuance to our initial question and allow us to make more pointed recommendations:\n",
    "\n",
    "* Does the price of a product have a statistically significant effect on the number of products customers order? \n",
    "* Do discounts have a greater or lesser effect on the number of products customers order when the products being ordered are more expensive?\n",
    "* Do discounts have a greater or lesser effect on the number of products customers order when the products being ordered are cheaper?\n",
    "\n",
    "For each hypothesis, I have chosen a significance level (alpha) of .05. This means there is a 5% risk of rejecting the null hypothesis even when it is true.\n",
    "\n",
    "\n",
    "## My Approach\n",
    "\n",
    "### Obtain Data √\n",
    "\n",
    "* Connecting to the database\n",
    "* Create a dataframe to hold the data\n",
    "* Familiarize myself with the dataset\n",
    "\n",
    "### Scrub Data √\n",
    "\n",
    "* Ensure Appropriate Column Data Types\n",
    "* Deal With Any Null Values\n",
    "* Separate Control and Experiment Groups\n",
    "\n",
    "### Explore Data √\n",
    "\n",
    "* Explore each group's distributions\n",
    "* Check the key assumptions required to run a test\n",
    "    * Data is independent\n",
    "    * Data is collected randomly\n",
    "    * Data is approximately normally distributed\n",
    "\n",
    "### Conduct Tests √\n",
    "\n",
    "* For each experiment\n",
    "    * Conduct 2 sample T Tests\n",
    "    * Determine Effect Sizes\n",
    "\n",
    "### Interpret Results √\n",
    "\n",
    "* Understand implications\n",
    "* Make recommendations"
   ]
  },
  {
   "attachments": {},
   "cell_type": "markdown",
   "metadata": {},
   "source": [
    "# Hypothesis #1\n",
    "\n",
    "### Question\n",
    "\n",
    "Do discounts have a statistically significant effect on the number of products customers order? If so, at what level(s) of discount?\n",
    "\n",
    "### Null Hypothesis\n",
    "\n",
    "Discounts have no effect on the number of products customers order.\n",
    "\n",
    "### Alternative Hypothesis\n",
    "\n",
    "Discounts have a statistically significant effect on the number of products customers order.\n",
    "\n",
    "\n",
    "## Obtain\n",
    "* Connecting to the database\n",
    "* Create a dataframe to hold the data\n",
    "* Familiarize myself with the dataset\n",
    "\n",
    "A view of our database:\n",
    "![https://raw.githubusercontent.com/nxd0/dsc-2-final-project-online-ds-sp-000/master/Northwind_ERD.png](https://raw.githubusercontent.com/nxd0/dsc-2-final-project-online-ds-sp-000/master/Northwind_ERD.png)\n"
   ]
  },
  {
   "cell_type": "code",
   "execution_count": 3,
   "metadata": {},
   "outputs": [],
   "source": [
    "#import necessary libraries\n",
    "import sqlite3\n",
    "import pandas as pd\n",
    "import numpy as np\n",
    "import matplotlib.pyplot as plt\n",
    "import seaborn as sns"
   ]
  },
  {
   "cell_type": "code",
   "execution_count": 4,
   "metadata": {},
   "outputs": [],
   "source": [
    "# Connecting to the Northwind database\n",
    "conn = sqlite3.connect('Northwind_small.sqlite', detect_types=sqlite3.PARSE_COLNAMES)\n",
    "c = conn.cursor()\n",
    "c.execute(\"SELECT * FROM OrderDetail;\") #everything we need to proceed is in here\n",
    "\n",
    "# Creating a new dataframe to hold our data\n",
    "df = pd.DataFrame(c.fetchall())\n",
    "df.columns = [i[0] for i in c.description]"
   ]
  },
  {
   "cell_type": "code",
   "execution_count": 5,
   "metadata": {},
   "outputs": [
    {
     "name": "stdout",
     "output_type": "stream",
     "text": [
      "(2155, 6)\n"
     ]
    },
    {
     "data": {
      "text/html": [
       "<div>\n",
       "<style scoped>\n",
       "    .dataframe tbody tr th:only-of-type {\n",
       "        vertical-align: middle;\n",
       "    }\n",
       "\n",
       "    .dataframe tbody tr th {\n",
       "        vertical-align: top;\n",
       "    }\n",
       "\n",
       "    .dataframe thead th {\n",
       "        text-align: right;\n",
       "    }\n",
       "</style>\n",
       "<table border=\"1\" class=\"dataframe\">\n",
       "  <thead>\n",
       "    <tr style=\"text-align: right;\">\n",
       "      <th></th>\n",
       "      <th>Id</th>\n",
       "      <th>OrderId</th>\n",
       "      <th>ProductId</th>\n",
       "      <th>UnitPrice</th>\n",
       "      <th>Quantity</th>\n",
       "      <th>Discount</th>\n",
       "    </tr>\n",
       "  </thead>\n",
       "  <tbody>\n",
       "    <tr>\n",
       "      <th>0</th>\n",
       "      <td>10248/11</td>\n",
       "      <td>10248</td>\n",
       "      <td>11</td>\n",
       "      <td>14.0</td>\n",
       "      <td>12</td>\n",
       "      <td>0.0</td>\n",
       "    </tr>\n",
       "    <tr>\n",
       "      <th>1</th>\n",
       "      <td>10248/42</td>\n",
       "      <td>10248</td>\n",
       "      <td>42</td>\n",
       "      <td>9.8</td>\n",
       "      <td>10</td>\n",
       "      <td>0.0</td>\n",
       "    </tr>\n",
       "    <tr>\n",
       "      <th>2</th>\n",
       "      <td>10248/72</td>\n",
       "      <td>10248</td>\n",
       "      <td>72</td>\n",
       "      <td>34.8</td>\n",
       "      <td>5</td>\n",
       "      <td>0.0</td>\n",
       "    </tr>\n",
       "    <tr>\n",
       "      <th>3</th>\n",
       "      <td>10249/14</td>\n",
       "      <td>10249</td>\n",
       "      <td>14</td>\n",
       "      <td>18.6</td>\n",
       "      <td>9</td>\n",
       "      <td>0.0</td>\n",
       "    </tr>\n",
       "    <tr>\n",
       "      <th>4</th>\n",
       "      <td>10249/51</td>\n",
       "      <td>10249</td>\n",
       "      <td>51</td>\n",
       "      <td>42.4</td>\n",
       "      <td>40</td>\n",
       "      <td>0.0</td>\n",
       "    </tr>\n",
       "  </tbody>\n",
       "</table>\n",
       "</div>"
      ],
      "text/plain": [
       "         Id  OrderId  ProductId  UnitPrice  Quantity  Discount\n",
       "0  10248/11    10248         11       14.0        12       0.0\n",
       "1  10248/42    10248         42        9.8        10       0.0\n",
       "2  10248/72    10248         72       34.8         5       0.0\n",
       "3  10249/14    10249         14       18.6         9       0.0\n",
       "4  10249/51    10249         51       42.4        40       0.0"
      ]
     },
     "execution_count": 5,
     "metadata": {},
     "output_type": "execute_result"
    }
   ],
   "source": [
    "#Checking out our dataframe\n",
    "print (df.shape)\n",
    "df.head()"
   ]
  },
  {
   "cell_type": "markdown",
   "metadata": {},
   "source": [
    "## Scrub Data\n",
    "\n",
    "* Ensure Appropriate Column Data Types\n",
    "* Deal With Any Null Values\n",
    "* Separate Control and Experiment Groups"
   ]
  },
  {
   "cell_type": "code",
   "execution_count": 6,
   "metadata": {},
   "outputs": [
    {
     "name": "stdout",
     "output_type": "stream",
     "text": [
      "<class 'pandas.core.frame.DataFrame'>\n",
      "RangeIndex: 2155 entries, 0 to 2154\n",
      "Data columns (total 6 columns):\n",
      "Id           2155 non-null object\n",
      "OrderId      2155 non-null int64\n",
      "ProductId    2155 non-null int64\n",
      "UnitPrice    2155 non-null float64\n",
      "Quantity     2155 non-null int64\n",
      "Discount     2155 non-null float64\n",
      "dtypes: float64(2), int64(3), object(1)\n",
      "memory usage: 101.1+ KB\n"
     ]
    }
   ],
   "source": [
    "#check column data types\n",
    "df.info()"
   ]
  },
  {
   "cell_type": "code",
   "execution_count": 7,
   "metadata": {},
   "outputs": [
    {
     "data": {
      "text/plain": [
       "Id           0\n",
       "OrderId      0\n",
       "ProductId    0\n",
       "UnitPrice    0\n",
       "Quantity     0\n",
       "Discount     0\n",
       "dtype: int64"
      ]
     },
     "execution_count": 7,
     "metadata": {},
     "output_type": "execute_result"
    }
   ],
   "source": [
    "#Looks good!\n",
    "#Now let's check for null values\n",
    "df.isnull().sum()"
   ]
  },
  {
   "cell_type": "code",
   "execution_count": 8,
   "metadata": {},
   "outputs": [
    {
     "name": "stdout",
     "output_type": "stream",
     "text": [
      "(1317,)\n"
     ]
    },
    {
     "data": {
      "text/plain": [
       "0    12\n",
       "1    10\n",
       "2     5\n",
       "3     9\n",
       "4    40\n",
       "Name: Quantity, dtype: int64"
      ]
     },
     "execution_count": 8,
     "metadata": {},
     "output_type": "execute_result"
    }
   ],
   "source": [
    "#Cool, this data set is already clean.\n",
    "\n",
    "#Now we can sepparate into our control and experiment groups.\n",
    "\n",
    "df_c = df[df['Discount']==0.0]['Quantity']\n",
    "print (df_c.shape)\n",
    "df_c.head()"
   ]
  },
  {
   "cell_type": "code",
   "execution_count": 9,
   "metadata": {},
   "outputs": [
    {
     "name": "stdout",
     "output_type": "stream",
     "text": [
      "(838,)\n"
     ]
    },
    {
     "data": {
      "text/plain": [
       "6     35\n",
       "7     15\n",
       "8      6\n",
       "9     15\n",
       "11    40\n",
       "Name: Quantity, dtype: int64"
      ]
     },
     "execution_count": 9,
     "metadata": {},
     "output_type": "execute_result"
    }
   ],
   "source": [
    "df_e = df[df['Discount']!=0.0]['Quantity']\n",
    "print (df_e.shape)\n",
    "df_e.head()"
   ]
  },
  {
   "cell_type": "markdown",
   "metadata": {},
   "source": [
    "### Explore Data\n",
    "\n",
    "* Explore each group's distributions\n",
    "* Check the key assumptions required to run a test\n",
    "    * Data is independent\n",
    "    * Data is collected randomly\n",
    "    * Data is approximately normally distributed"
   ]
  },
  {
   "cell_type": "code",
   "execution_count": 10,
   "metadata": {},
   "outputs": [
    {
     "data": {
      "text/plain": [
       "(21.715261958997722, 27.10978520286396)"
      ]
     },
     "execution_count": 10,
     "metadata": {},
     "output_type": "execute_result"
    }
   ],
   "source": [
    "#let's explore a bit.\n",
    "\n",
    "df_c.mean(), df_e.mean()"
   ]
  },
  {
   "cell_type": "code",
   "execution_count": 11,
   "metadata": {},
   "outputs": [
    {
     "name": "stderr",
     "output_type": "stream",
     "text": [
      "/Users/noahxdeutsch/anaconda3/envs/learn-env/lib/python3.6/site-packages/scipy/stats/stats.py:1713: FutureWarning: Using a non-tuple sequence for multidimensional indexing is deprecated; use `arr[tuple(seq)]` instead of `arr[seq]`. In the future this will be interpreted as an array index, `arr[np.array(seq)]`, which will result either in an error or a different result.\n",
      "  return np.add.reduce(sorted[indexer] * weights, axis=axis) / sumval\n"
     ]
    },
    {
     "data": {
      "text/plain": [
       "<matplotlib.legend.Legend at 0x1a1d752668>"
      ]
     },
     "execution_count": 11,
     "metadata": {},
     "output_type": "execute_result"
    },
    {
     "data": {
      "image/png": "[encoded data removed]",
      "text/plain": [
       "<Figure size 432x288 with 1 Axes>"
      ]
     },
     "metadata": {
      "needs_background": "light"
     },
     "output_type": "display_data"
    }
   ],
   "source": [
    "#Distplot in Seaborn with Means\n",
    "\n",
    "sns.distplot(df_c,label='No Discount Group')\n",
    "plt.axvline(x=df_c.mean(),color='black',label = \"No Discount Mean: 21.7\")\n",
    "sns.distplot(df_e,label='Discount Group')\n",
    "plt.axvline(x=df_e.mean(),color='red', label = 'Discount Mean: 27.1')\n",
    "plt.legend(loc='upper right')\n"
   ]
  },
  {
   "cell_type": "code",
   "execution_count": 12,
   "metadata": {},
   "outputs": [],
   "source": [
    "#Observations –\n",
    "\n",
    "#Both appear to be somewhat normal, but with positive skews\n",
    "#Our Experiment group has a mean of ~27.1 while our control group has a mean of ~21.7. \n",
    "#which you can also see visually in our distplot\n",
    "\n",
    "#Intuitively, I'd expect to see a statistically significant difference between cont. and exp. groups."
   ]
  },
  {
   "cell_type": "code",
   "execution_count": 13,
   "metadata": {},
   "outputs": [],
   "source": [
    "#Before moving on, let's check the key assumptions required to run a T test\n",
    "\n",
    "#Data is independent\n",
    "    #This is satisfied by the nature of our data – we can assume each order is independant from one another.\n",
    "\n",
    "#Data is collected randomly\n",
    "    #We can assume that each data point in the population had an equal chance of being included in the sample.\n",
    "    \n",
    "#Data is approximately normally distributed\n",
    "    #This seems to be the case, based on the above.\n",
    "    \n",
    "#Let's move on!"
   ]
  },
  {
   "cell_type": "code",
   "execution_count": 14,
   "metadata": {},
   "outputs": [
    {
     "name": "stdout",
     "output_type": "stream",
     "text": [
      "control var = 306.2795924332757\n",
      "experiment var = 430.93782787748984\n",
      "control sample size = 1317\n",
      "experiment sample size = 838\n"
     ]
    }
   ],
   "source": [
    "#additionally, let's look at the variances and sample sizes for our two groups \n",
    "#This will help us determine which type of T Test to do\n",
    "\n",
    "print(\"control var =\",np.var(df_c))\n",
    "print(\"experiment var =\",np.var(df_e))\n",
    "\n",
    "print(\"control sample size =\",len(df_c))\n",
    "print(\"experiment sample size =\",len(df_e))"
   ]
  },
  {
   "cell_type": "code",
   "execution_count": 15,
   "metadata": {},
   "outputs": [],
   "source": [
    "#Looks like we want to use Welch's T Test (vs the Student T Test) since we have differing sample sizes and variances."
   ]
  },
  {
   "cell_type": "markdown",
   "metadata": {},
   "source": [
    "## Conduct Tests\n",
    "\n",
    "* Conduct 2 sample T Tests\n",
    "* Determine Effect Sizes"
   ]
  },
  {
   "cell_type": "code",
   "execution_count": 16,
   "metadata": {},
   "outputs": [],
   "source": [
    "#import necessary modules\n",
    "from scipy import stats"
   ]
  },
  {
   "cell_type": "code",
   "execution_count": 17,
   "metadata": {},
   "outputs": [
    {
     "name": "stdout",
     "output_type": "stream",
     "text": [
      "Statistic =  6.239069142123973\n",
      "PValue =  5.65641429030433e-10\n"
     ]
    }
   ],
   "source": [
    "#Since we're trying to determine if the two population means are equal, we can use a 2-sample (Welch's) T Test \n",
    "\n",
    "stat,pval = stats.ttest_ind(df_e,df_c,equal_var=False) #Welch\n",
    "print('Statistic = ',stat)\n",
    "print('PValue = ',pval)"
   ]
  },
  {
   "cell_type": "code",
   "execution_count": 18,
   "metadata": {},
   "outputs": [
    {
     "name": "stdout",
     "output_type": "stream",
     "text": [
      "Cohens D =  0.2862724481729282\n"
     ]
    }
   ],
   "source": [
    "#Great! We're seeing a very low P-Value. \n",
    "#Before we conclusively reject the null hypothesis – let's look at effect size.\n",
    "\n",
    "def Cohen_d(group1, group2):\n",
    "\n",
    "    # Compute Cohen's d.\n",
    "\n",
    "    # group1: Series or NumPy array\n",
    "    # group2: Series or NumPy array\n",
    "\n",
    "    # returns a floating point number \n",
    "\n",
    "    diff = group1.mean() - group2.mean()\n",
    "\n",
    "    n1, n2 = len(group1), len(group2)\n",
    "    var1 = group1.var()\n",
    "    var2 = group2.var()\n",
    "\n",
    "    # Calculate the pooled threshold as shown earlier\n",
    "    pooled_var = (n1 * var1 + n2 * var2) / (n1 + n2)\n",
    "    \n",
    "    # Calculate Cohen's d statistic\n",
    "    d = diff / np.sqrt(pooled_var)\n",
    "    \n",
    "    return d\n",
    "\n",
    "print(\"Cohens D = \",Cohen_d(df_e, df_c))"
   ]
  },
  {
   "cell_type": "code",
   "execution_count": 19,
   "metadata": {},
   "outputs": [],
   "source": [
    "#Remembering some rules of thumb for interpreting D\n",
    "    #Small effect = 0.2\n",
    "    #Medium Effect = 0.5\n",
    "    #Large Effect = 0.8\n",
    "    \n",
    "#Our D of .28 puts us in the small-medium range."
   ]
  },
  {
   "cell_type": "markdown",
   "metadata": {},
   "source": [
    "### We can now, say with 95% confidence, that there is a statistically significant difference between the control and experiment groups with a small-to-medium effect size.\n",
    "\n",
    "#### However, we still haven't figured out how this varies at different levels of discount."
   ]
  },
  {
   "cell_type": "code",
   "execution_count": 20,
   "metadata": {},
   "outputs": [
    {
     "name": "stdout",
     "output_type": "stream",
     "text": [
      "Discount =  0.01\n",
      "Sample Size =  1\n",
      "\n",
      "\n",
      "Discount =  0.02\n",
      "Sample Size =  2\n",
      "\n",
      "\n",
      "Discount =  0.03\n",
      "Sample Size =  3\n",
      "\n",
      "\n",
      "Discount =  0.04\n",
      "Sample Size =  1\n",
      "\n",
      "\n",
      "Discount =  0.05\n",
      "Sample Size =  185\n",
      "\n",
      "\n",
      "Discount =  0.06\n",
      "Sample Size =  1\n",
      "\n",
      "\n",
      "Discount =  0.1\n",
      "Sample Size =  173\n",
      "\n",
      "\n",
      "Discount =  0.15\n",
      "Sample Size =  157\n",
      "\n",
      "\n",
      "Discount =  0.2\n",
      "Sample Size =  161\n",
      "\n",
      "\n",
      "Discount =  0.25\n",
      "Sample Size =  154\n",
      "\n",
      "\n"
     ]
    }
   ],
   "source": [
    "#to determing how this varies at different levels of discount, \n",
    "#we need to conduct T-Tests for each discount level individually\n",
    "\n",
    "#let's look at the sample sizes for each discount level\n",
    "for val in np.sort(df[df['Discount']!=0.0]['Discount'].unique()):\n",
    "    df_e_2 = (df[df['Discount']==val]['Quantity'])\n",
    "    print('Discount = ',val)\n",
    "    print('Sample Size = ', len(df_e_2))\n",
    "    print('\\n')"
   ]
  },
  {
   "cell_type": "code",
   "execution_count": 21,
   "metadata": {},
   "outputs": [
    {
     "name": "stdout",
     "output_type": "stream",
     "text": [
      "193\n",
      "173\n",
      "157\n",
      "161\n",
      "154\n"
     ]
    },
    {
     "name": "stderr",
     "output_type": "stream",
     "text": [
      "/Users/noahxdeutsch/anaconda3/envs/learn-env/lib/python3.6/site-packages/ipykernel_launcher.py:4: UserWarning: Boolean Series key will be reindexed to match DataFrame index.\n",
      "  after removing the cwd from sys.path.\n"
     ]
    }
   ],
   "source": [
    "#We'll need to start by bucketing our discounts below .1 (where many values have small sample sizes)\n",
    "\n",
    "discounts = []\n",
    "discounts.append(['0-.06',df[df['Discount']!=0.0][df['Discount']<.1]['Quantity']])\n",
    "discounts.append(['.1',df[df['Discount']==.1]['Quantity']])\n",
    "discounts.append(['.15',df[df['Discount']==.15]['Quantity']])\n",
    "discounts.append(['.2',df[df['Discount']==.2]['Quantity']])\n",
    "discounts.append(['.25',df[df['Discount']==.25]['Quantity']])\n",
    "\n",
    "for d in discounts:\n",
    "    print(len(d[1]))"
   ]
  },
  {
   "cell_type": "code",
   "execution_count": 22,
   "metadata": {},
   "outputs": [
    {
     "name": "stdout",
     "output_type": "stream",
     "text": [
      "Discount =  0-.06\n",
      "Sample Size =  193\n",
      "PValue =  0.002\n",
      "Cohens D =  0.29\n",
      "\n",
      "\n",
      "Discount =  .1\n",
      "Sample Size =  173\n",
      "PValue =  0.037\n",
      "Cohens D =  0.2\n",
      "\n",
      "\n",
      "Discount =  .15\n",
      "Sample Size =  157\n",
      "PValue =  0.0\n",
      "Cohens D =  0.37\n",
      "\n",
      "\n",
      "Discount =  .2\n",
      "Sample Size =  161\n",
      "PValue =  0.001\n",
      "Cohens D =  0.3\n",
      "\n",
      "\n",
      "Discount =  .25\n",
      "Sample Size =  154\n",
      "PValue =  0.0\n",
      "Cohens D =  0.37\n",
      "\n",
      "\n"
     ]
    }
   ],
   "source": [
    "#Now that we've bucketed and everything has a respectable sample size, we can proceed.\n",
    "\n",
    "for d in discounts:\n",
    "    disc = d[0]\n",
    "    df_e_2 = d[1]\n",
    "    stat,pval = stats.ttest_ind(df_e_2,df_c,equal_var=False)\n",
    "    co_d = Cohen_d(df_e_2, df_c)\n",
    "    print('Discount = ',disc)\n",
    "    print('Sample Size = ', len(df_e_2))\n",
    "    print('PValue = ',round(pval,3))\n",
    "    print(\"Cohens D = \",round(co_d,2))\n",
    "    print('\\n')"
   ]
  },
  {
   "cell_type": "code",
   "execution_count": 23,
   "metadata": {},
   "outputs": [],
   "source": [
    "#Observations\n",
    "    #All our Pvalues are below our Alpha threshold. \n",
    "    #Cohen's Ds are all in the small–medium range\n",
    "    #Discounts of .15 and .25 had the largest effect sizes.\n",
    "    #Discounts of less than .06 had a similar effect to discounts of .2\n",
    "    #Discounts of .1 had the smallest effect"
   ]
  },
  {
   "cell_type": "markdown",
   "metadata": {},
   "source": [
    "## Interpret Results\n",
    "\n",
    "* Understand implications\n",
    "* Make recommendations\n",
    "\n",
    "---\n",
    "\n",
    "### Based on these observations I would recommend that the Northwind company continue using discounting as a strategy to increase the number of products ordered. \n",
    "* I would also recommend focusing on discounts of ~15% , which shared the largest effect size with discounts of 25%. \n",
    "* In cases where a 15% discount is too high, I would recommend trying a discount of below 6%. Discounts in this range had an effect size roughly equivilent to that of a 20% discount."
   ]
  },
  {
   "cell_type": "code",
   "execution_count": 51,
   "metadata": {},
   "outputs": [
    {
     "name": "stdout",
     "output_type": "stream",
     "text": [
      "Multiple Comparison of Means - Tukey HSD,FWER=0.05\n",
      "===============================================\n",
      "group1  group2 meandiff  lower    upper  reject\n",
      "-----------------------------------------------\n",
      " 10%     15%    3.1452  -2.7805   9.0709 False \n",
      " 10%     20%    1.7879  -4.0991   7.6748 False \n",
      " 10%     25%    3.0033  -2.9526   8.9591 False \n",
      " 10%     <6%    1.6853  -3.9432   7.3138 False \n",
      " 10%   control -3.5217  -7.8692   0.8257 False \n",
      " 15%     20%   -1.3573  -7.3872   4.6725 False \n",
      " 15%     25%   -0.1419   -6.239   5.9552 False \n",
      " 15%     <6%   -1.4599  -7.2377   4.3179 False \n",
      " 15%   control -6.6669  -11.2059 -2.1279  True \n",
      " 20%     25%    1.2154  -4.8441   7.2749 False \n",
      " 20%     <6%   -0.1026  -5.8406   5.6355 False \n",
      " 20%   control -5.3096  -9.7979  -0.8212  True \n",
      " 25%     <6%    -1.318  -7.1267   4.4907 False \n",
      " 25%   control  -6.525  -11.1033 -1.9467  True \n",
      " <6%   control  -5.207  -9.3506  -1.0635  True \n",
      "-----------------------------------------------\n"
     ]
    }
   ],
   "source": [
    "#Alternative Approach – Tukey Test\n",
    "dis_vals = []\n",
    "\n",
    "for dis in discounts:\n",
    "    dis_vals.append(dis[1])\n",
    "\n",
    "v = np.concatenate([df_c,dis_vals[0],dis_vals[1],dis_vals[2],dis_vals[3],dis_vals[4]])\n",
    "labels = ['control'] * len(df_c) + ['<6%'] * len(dis_vals[0]) + ['10%'] * len(dis_vals[1]) + ['15%'] * len(dis_vals[2]) + ['20%'] * len(dis_vals[3]) + ['25%'] * len(dis_vals[4])\n",
    "\n",
    "from statsmodels.stats.multicomp import pairwise_tukeyhsd\n",
    "\n",
    "print(pairwise_tukeyhsd(v,labels,.05))"
   ]
  },
  {
   "cell_type": "code",
   "execution_count": null,
   "metadata": {},
   "outputs": [],
   "source": [
    "#Conclusions – We can reject the null hypothesis for all discount ranges VS control group EXCEPT with 10% discounts\n",
    "#Our T Tests produced a type 1 error for the 10% discount range"
   ]
  },
  {
   "cell_type": "markdown",
   "metadata": {},
   "source": [
    "# Question #2\n",
    "\n",
    "### Question\n",
    "Does the price of a product have significant effect on the number of products customers order? \n",
    "\n",
    "### Null Hypothesis\n",
    "\n",
    "The price of a product has no effect on the number of products customers order.\n",
    "\n",
    "### Alternative Hypothesis\n",
    "\n",
    "The price of a product has a statistically significant effect on the number of products customers order.\n"
   ]
  },
  {
   "cell_type": "code",
   "execution_count": 23,
   "metadata": {},
   "outputs": [
    {
     "data": {
      "text/plain": [
       "count    2155.000000\n",
       "mean       26.218520\n",
       "std        29.827418\n",
       "min         2.000000\n",
       "25%        12.000000\n",
       "50%        18.400000\n",
       "75%        32.000000\n",
       "max       263.500000\n",
       "Name: UnitPrice, dtype: float64"
      ]
     },
     "execution_count": 23,
     "metadata": {},
     "output_type": "execute_result"
    }
   ],
   "source": [
    "#We can skip a few steps (obtaining, scrubbing, etc) – building on the work in the previous question.\n",
    "\n",
    "#Let's take a look at price\n",
    "df['UnitPrice'].describe()"
   ]
  },
  {
   "cell_type": "code",
   "execution_count": 64,
   "metadata": {},
   "outputs": [
    {
     "name": "stdout",
     "output_type": "stream",
     "text": [
      "(1437,)\n",
      "(718,)\n"
     ]
    }
   ],
   "source": [
    "#Let's create new control and experiment groups – based on unit price. \n",
    "price_mean = df['UnitPrice'].mean()\n",
    "\n",
    "df_c_price_low = df[df['UnitPrice']<price_mean]['Quantity']\n",
    "df_e_price_high = df[df['UnitPrice']>price_mean]['Quantity']\n",
    "\n",
    "print (df_c_price_low.shape)\n",
    "print (df_e_price_high.shape)\n"
   ]
  },
  {
   "cell_type": "code",
   "execution_count": 65,
   "metadata": {},
   "outputs": [
    {
     "name": "stdout",
     "output_type": "stream",
     "text": [
      "23.567849686847598 24.303621169916436\n"
     ]
    },
    {
     "name": "stderr",
     "output_type": "stream",
     "text": [
      "/Users/noahxdeutsch/anaconda3/envs/learn-env/lib/python3.6/site-packages/scipy/stats/stats.py:1713: FutureWarning: Using a non-tuple sequence for multidimensional indexing is deprecated; use `arr[tuple(seq)]` instead of `arr[seq]`. In the future this will be interpreted as an array index, `arr[np.array(seq)]`, which will result either in an error or a different result.\n",
      "  return np.add.reduce(sorted[indexer] * weights, axis=axis) / sumval\n"
     ]
    },
    {
     "data": {
      "text/plain": [
       "<matplotlib.axes._subplots.AxesSubplot at 0x1a1d2e44a8>"
      ]
     },
     "execution_count": 65,
     "metadata": {},
     "output_type": "execute_result"
    },
    {
     "data": {
      "image/png": "[encoded data removed]",
      "text/plain": [
       "<Figure size 432x288 with 1 Axes>"
      ]
     },
     "metadata": {
      "needs_background": "light"
     },
     "output_type": "display_data"
    }
   ],
   "source": [
    "print(df_c_price_low.mean(), df_e_price_high.mean())\n",
    "\n",
    "sns.distplot(df_c_price_low)\n",
    "sns.distplot(df_e_price_high)"
   ]
  },
  {
   "cell_type": "code",
   "execution_count": 66,
   "metadata": {},
   "outputs": [],
   "source": [
    "#Observations –\n",
    "    #Similar to the last section – both appear to be somewhat normal, but with positive skews\n",
    "    #Our low group has a mean of ~23.6 while our high price group has a mean of ~24.3. \n",
    "    #This is a smaller change than the last test. \n",
    "\n",
    "#Intuitively, I'd expect to see a much smaller effect size than with the previous question.\n",
    "#My guess is we won't be able to reject the null hypothesis here."
   ]
  },
  {
   "cell_type": "code",
   "execution_count": 68,
   "metadata": {},
   "outputs": [
    {
     "name": "stdout",
     "output_type": "stream",
     "text": [
      "PValue =  0.40882539126514883\n",
      "Cohens D =  0.04\n"
     ]
    }
   ],
   "source": [
    "stat,pval = stats.ttest_ind(df_e_price_high,df_c_price_low,equal_var=False)\n",
    "print('PValue = ',pval)\n",
    "\n",
    "co_d = Cohen_d(df_e_price_high, df_c_price_low)\n",
    "print(\"Cohens D = \",round(co_d,2))"
   ]
  },
  {
   "cell_type": "markdown",
   "metadata": {},
   "source": [
    "### Ultimately, due to a P-value of .4, we do not have enough evidence to reject the null hypothesis, and must conclude that the price of a product has no statistically significant effect on the number of products customers order.\n",
    "---\n"
   ]
  },
  {
   "cell_type": "markdown",
   "metadata": {},
   "source": [
    "# Questions #3 & #4\n",
    "\n",
    "### Questions\n",
    "\n",
    "Do discounts have a greater or lessor effect on the number of products customers order when the products being ordered are more expensive?\n",
    "\n",
    "Do discounts have a greater or lessor effect on the number of products customers order when the products being ordered are cheaper?\n",
    "\n",
    "### Null Hypothesis 1\n",
    "\n",
    "A product being more expensive has no effect on how much discounts effect the number of products customers order.\n",
    "\n",
    "### Alternative Hypothesis 1\n",
    "\n",
    "A product being more expensive has a statistically significant effect on how much discounts effect the number of products customers order.\n",
    "\n",
    "### Null Hypothesis 2\n",
    "\n",
    "A product being less expensive has no effect on how much discounts effect the number of products customers order.\n",
    "\n",
    "### Alternative Hypothesis 2\n",
    "\n",
    "A product being less expensive has a statistically significant effect on how much discounts effect the number of products customers order."
   ]
  },
  {
   "cell_type": "code",
   "execution_count": 28,
   "metadata": {},
   "outputs": [],
   "source": [
    "#To test these hypotheses, we'll take the following steps\n",
    "    #Create three sepparate dataframes based on unit price (high, medium and low)\n",
    "    #For each dataframe, repeat experiment #1 to understand the effect of discounts on # of products ordered\n",
    "    #If all Pvals are low, Compare the cohen's Ds to determine which has the largest effect size."
   ]
  },
  {
   "cell_type": "code",
   "execution_count": 70,
   "metadata": {},
   "outputs": [
    {
     "data": {
      "text/html": [
       "<div>\n",
       "<style scoped>\n",
       "    .dataframe tbody tr th:only-of-type {\n",
       "        vertical-align: middle;\n",
       "    }\n",
       "\n",
       "    .dataframe tbody tr th {\n",
       "        vertical-align: top;\n",
       "    }\n",
       "\n",
       "    .dataframe thead th {\n",
       "        text-align: right;\n",
       "    }\n",
       "</style>\n",
       "<table border=\"1\" class=\"dataframe\">\n",
       "  <thead>\n",
       "    <tr style=\"text-align: right;\">\n",
       "      <th></th>\n",
       "      <th>Id</th>\n",
       "      <th>OrderId</th>\n",
       "      <th>ProductId</th>\n",
       "      <th>UnitPrice</th>\n",
       "      <th>Quantity</th>\n",
       "      <th>Discount</th>\n",
       "    </tr>\n",
       "  </thead>\n",
       "  <tbody>\n",
       "    <tr>\n",
       "      <th>67</th>\n",
       "      <td>10273/33</td>\n",
       "      <td>10273</td>\n",
       "      <td>33</td>\n",
       "      <td>2.0</td>\n",
       "      <td>20</td>\n",
       "      <td>0.0</td>\n",
       "    </tr>\n",
       "    <tr>\n",
       "      <th>547</th>\n",
       "      <td>10454/33</td>\n",
       "      <td>10454</td>\n",
       "      <td>33</td>\n",
       "      <td>2.0</td>\n",
       "      <td>20</td>\n",
       "      <td>0.2</td>\n",
       "    </tr>\n",
       "    <tr>\n",
       "      <th>443</th>\n",
       "      <td>10414/33</td>\n",
       "      <td>10414</td>\n",
       "      <td>33</td>\n",
       "      <td>2.0</td>\n",
       "      <td>50</td>\n",
       "      <td>0.0</td>\n",
       "    </tr>\n",
       "    <tr>\n",
       "      <th>433</th>\n",
       "      <td>10410/33</td>\n",
       "      <td>10410</td>\n",
       "      <td>33</td>\n",
       "      <td>2.0</td>\n",
       "      <td>49</td>\n",
       "      <td>0.0</td>\n",
       "    </tr>\n",
       "    <tr>\n",
       "      <th>61</th>\n",
       "      <td>10271/33</td>\n",
       "      <td>10271</td>\n",
       "      <td>33</td>\n",
       "      <td>2.0</td>\n",
       "      <td>24</td>\n",
       "      <td>0.0</td>\n",
       "    </tr>\n",
       "  </tbody>\n",
       "</table>\n",
       "</div>"
      ],
      "text/plain": [
       "           Id  OrderId  ProductId  UnitPrice  Quantity  Discount\n",
       "67   10273/33    10273         33        2.0        20       0.0\n",
       "547  10454/33    10454         33        2.0        20       0.2\n",
       "443  10414/33    10414         33        2.0        50       0.0\n",
       "433  10410/33    10410         33        2.0        49       0.0\n",
       "61   10271/33    10271         33        2.0        24       0.0"
      ]
     },
     "execution_count": 70,
     "metadata": {},
     "output_type": "execute_result"
    }
   ],
   "source": [
    "df_prices_sorted = df.sort_values(by=['UnitPrice'])\n",
    "df_prices_sorted.head()"
   ]
  },
  {
   "cell_type": "code",
   "execution_count": 71,
   "metadata": {},
   "outputs": [],
   "source": [
    "price_groups = np.array_split(df_prices_sorted, 3)\n",
    "df_high = price_groups[2]\n",
    "df_med = price_groups[1]\n",
    "df_low = price_groups[0]"
   ]
  },
  {
   "cell_type": "code",
   "execution_count": 73,
   "metadata": {},
   "outputs": [
    {
     "name": "stdout",
     "output_type": "stream",
     "text": [
      "(719, 6)\n"
     ]
    },
    {
     "data": {
      "text/html": [
       "<div>\n",
       "<style scoped>\n",
       "    .dataframe tbody tr th:only-of-type {\n",
       "        vertical-align: middle;\n",
       "    }\n",
       "\n",
       "    .dataframe tbody tr th {\n",
       "        vertical-align: top;\n",
       "    }\n",
       "\n",
       "    .dataframe thead th {\n",
       "        text-align: right;\n",
       "    }\n",
       "</style>\n",
       "<table border=\"1\" class=\"dataframe\">\n",
       "  <thead>\n",
       "    <tr style=\"text-align: right;\">\n",
       "      <th></th>\n",
       "      <th>OrderId</th>\n",
       "      <th>ProductId</th>\n",
       "      <th>UnitPrice</th>\n",
       "      <th>Quantity</th>\n",
       "      <th>Discount</th>\n",
       "    </tr>\n",
       "  </thead>\n",
       "  <tbody>\n",
       "    <tr>\n",
       "      <th>count</th>\n",
       "      <td>719.000000</td>\n",
       "      <td>719.000000</td>\n",
       "      <td>719.000000</td>\n",
       "      <td>719.000000</td>\n",
       "      <td>719.000000</td>\n",
       "    </tr>\n",
       "    <tr>\n",
       "      <th>mean</th>\n",
       "      <td>10652.566064</td>\n",
       "      <td>41.841446</td>\n",
       "      <td>9.164812</td>\n",
       "      <td>23.324061</td>\n",
       "      <td>0.056495</td>\n",
       "    </tr>\n",
       "    <tr>\n",
       "      <th>std</th>\n",
       "      <td>242.431602</td>\n",
       "      <td>20.581177</td>\n",
       "      <td>3.169939</td>\n",
       "      <td>18.289969</td>\n",
       "      <td>0.083078</td>\n",
       "    </tr>\n",
       "    <tr>\n",
       "      <th>min</th>\n",
       "      <td>10248.000000</td>\n",
       "      <td>3.000000</td>\n",
       "      <td>2.000000</td>\n",
       "      <td>1.000000</td>\n",
       "      <td>0.000000</td>\n",
       "    </tr>\n",
       "    <tr>\n",
       "      <th>25%</th>\n",
       "      <td>10441.000000</td>\n",
       "      <td>24.000000</td>\n",
       "      <td>7.200000</td>\n",
       "      <td>10.000000</td>\n",
       "      <td>0.000000</td>\n",
       "    </tr>\n",
       "    <tr>\n",
       "      <th>50%</th>\n",
       "      <td>10654.000000</td>\n",
       "      <td>41.000000</td>\n",
       "      <td>9.500000</td>\n",
       "      <td>20.000000</td>\n",
       "      <td>0.000000</td>\n",
       "    </tr>\n",
       "    <tr>\n",
       "      <th>75%</th>\n",
       "      <td>10861.000000</td>\n",
       "      <td>54.000000</td>\n",
       "      <td>12.000000</td>\n",
       "      <td>30.000000</td>\n",
       "      <td>0.100000</td>\n",
       "    </tr>\n",
       "    <tr>\n",
       "      <th>max</th>\n",
       "      <td>11077.000000</td>\n",
       "      <td>77.000000</td>\n",
       "      <td>14.000000</td>\n",
       "      <td>120.000000</td>\n",
       "      <td>0.250000</td>\n",
       "    </tr>\n",
       "  </tbody>\n",
       "</table>\n",
       "</div>"
      ],
      "text/plain": [
       "            OrderId   ProductId   UnitPrice    Quantity    Discount\n",
       "count    719.000000  719.000000  719.000000  719.000000  719.000000\n",
       "mean   10652.566064   41.841446    9.164812   23.324061    0.056495\n",
       "std      242.431602   20.581177    3.169939   18.289969    0.083078\n",
       "min    10248.000000    3.000000    2.000000    1.000000    0.000000\n",
       "25%    10441.000000   24.000000    7.200000   10.000000    0.000000\n",
       "50%    10654.000000   41.000000    9.500000   20.000000    0.000000\n",
       "75%    10861.000000   54.000000   12.000000   30.000000    0.100000\n",
       "max    11077.000000   77.000000   14.000000  120.000000    0.250000"
      ]
     },
     "execution_count": 73,
     "metadata": {},
     "output_type": "execute_result"
    }
   ],
   "source": [
    "#checking to make sure these came out right\n",
    "\n",
    "print(df_low.shape)\n",
    "df_low.describe()"
   ]
  },
  {
   "cell_type": "code",
   "execution_count": 74,
   "metadata": {},
   "outputs": [
    {
     "name": "stdout",
     "output_type": "stream",
     "text": [
      "(718, 6)\n"
     ]
    },
    {
     "data": {
      "text/html": [
       "<div>\n",
       "<style scoped>\n",
       "    .dataframe tbody tr th:only-of-type {\n",
       "        vertical-align: middle;\n",
       "    }\n",
       "\n",
       "    .dataframe tbody tr th {\n",
       "        vertical-align: top;\n",
       "    }\n",
       "\n",
       "    .dataframe thead th {\n",
       "        text-align: right;\n",
       "    }\n",
       "</style>\n",
       "<table border=\"1\" class=\"dataframe\">\n",
       "  <thead>\n",
       "    <tr style=\"text-align: right;\">\n",
       "      <th></th>\n",
       "      <th>OrderId</th>\n",
       "      <th>ProductId</th>\n",
       "      <th>UnitPrice</th>\n",
       "      <th>Quantity</th>\n",
       "      <th>Discount</th>\n",
       "    </tr>\n",
       "  </thead>\n",
       "  <tbody>\n",
       "    <tr>\n",
       "      <th>count</th>\n",
       "      <td>718.000000</td>\n",
       "      <td>718.000000</td>\n",
       "      <td>718.000000</td>\n",
       "      <td>718.000000</td>\n",
       "      <td>718.000000</td>\n",
       "    </tr>\n",
       "    <tr>\n",
       "      <th>mean</th>\n",
       "      <td>10647.383008</td>\n",
       "      <td>36.784123</td>\n",
       "      <td>19.040432</td>\n",
       "      <td>23.811978</td>\n",
       "      <td>0.059666</td>\n",
       "    </tr>\n",
       "    <tr>\n",
       "      <th>std</th>\n",
       "      <td>241.419199</td>\n",
       "      <td>24.400069</td>\n",
       "      <td>3.230713</td>\n",
       "      <td>18.817542</td>\n",
       "      <td>0.085600</td>\n",
       "    </tr>\n",
       "    <tr>\n",
       "      <th>min</th>\n",
       "      <td>10248.000000</td>\n",
       "      <td>1.000000</td>\n",
       "      <td>14.000000</td>\n",
       "      <td>1.000000</td>\n",
       "      <td>0.000000</td>\n",
       "    </tr>\n",
       "    <tr>\n",
       "      <th>25%</th>\n",
       "      <td>10442.250000</td>\n",
       "      <td>14.000000</td>\n",
       "      <td>16.800000</td>\n",
       "      <td>10.000000</td>\n",
       "      <td>0.000000</td>\n",
       "    </tr>\n",
       "    <tr>\n",
       "      <th>50%</th>\n",
       "      <td>10635.000000</td>\n",
       "      <td>36.500000</td>\n",
       "      <td>18.400000</td>\n",
       "      <td>20.000000</td>\n",
       "      <td>0.000000</td>\n",
       "    </tr>\n",
       "    <tr>\n",
       "      <th>75%</th>\n",
       "      <td>10851.000000</td>\n",
       "      <td>57.000000</td>\n",
       "      <td>21.000000</td>\n",
       "      <td>30.000000</td>\n",
       "      <td>0.100000</td>\n",
       "    </tr>\n",
       "    <tr>\n",
       "      <th>max</th>\n",
       "      <td>11077.000000</td>\n",
       "      <td>76.000000</td>\n",
       "      <td>26.200000</td>\n",
       "      <td>130.000000</td>\n",
       "      <td>0.250000</td>\n",
       "    </tr>\n",
       "  </tbody>\n",
       "</table>\n",
       "</div>"
      ],
      "text/plain": [
       "            OrderId   ProductId   UnitPrice    Quantity    Discount\n",
       "count    718.000000  718.000000  718.000000  718.000000  718.000000\n",
       "mean   10647.383008   36.784123   19.040432   23.811978    0.059666\n",
       "std      241.419199   24.400069    3.230713   18.817542    0.085600\n",
       "min    10248.000000    1.000000   14.000000    1.000000    0.000000\n",
       "25%    10442.250000   14.000000   16.800000   10.000000    0.000000\n",
       "50%    10635.000000   36.500000   18.400000   20.000000    0.000000\n",
       "75%    10851.000000   57.000000   21.000000   30.000000    0.100000\n",
       "max    11077.000000   76.000000   26.200000  130.000000    0.250000"
      ]
     },
     "execution_count": 74,
     "metadata": {},
     "output_type": "execute_result"
    }
   ],
   "source": [
    "print(df_med.shape)\n",
    "df_med.describe()"
   ]
  },
  {
   "cell_type": "code",
   "execution_count": 75,
   "metadata": {},
   "outputs": [
    {
     "name": "stdout",
     "output_type": "stream",
     "text": [
      "(718, 6)\n"
     ]
    },
    {
     "data": {
      "text/html": [
       "<div>\n",
       "<style scoped>\n",
       "    .dataframe tbody tr th:only-of-type {\n",
       "        vertical-align: middle;\n",
       "    }\n",
       "\n",
       "    .dataframe tbody tr th {\n",
       "        vertical-align: top;\n",
       "    }\n",
       "\n",
       "    .dataframe thead th {\n",
       "        text-align: right;\n",
       "    }\n",
       "</style>\n",
       "<table border=\"1\" class=\"dataframe\">\n",
       "  <thead>\n",
       "    <tr style=\"text-align: right;\">\n",
       "      <th></th>\n",
       "      <th>OrderId</th>\n",
       "      <th>ProductId</th>\n",
       "      <th>UnitPrice</th>\n",
       "      <th>Quantity</th>\n",
       "      <th>Discount</th>\n",
       "    </tr>\n",
       "  </thead>\n",
       "  <tbody>\n",
       "    <tr>\n",
       "      <th>count</th>\n",
       "      <td>718.000000</td>\n",
       "      <td>718.000000</td>\n",
       "      <td>718.000000</td>\n",
       "      <td>718.000000</td>\n",
       "      <td>718.000000</td>\n",
       "    </tr>\n",
       "    <tr>\n",
       "      <th>mean</th>\n",
       "      <td>10678.188022</td>\n",
       "      <td>43.752089</td>\n",
       "      <td>50.474067</td>\n",
       "      <td>24.303621</td>\n",
       "      <td>0.052340</td>\n",
       "    </tr>\n",
       "    <tr>\n",
       "      <th>std</th>\n",
       "      <td>239.479933</td>\n",
       "      <td>20.727221</td>\n",
       "      <td>41.471170</td>\n",
       "      <td>19.936364</td>\n",
       "      <td>0.081578</td>\n",
       "    </tr>\n",
       "    <tr>\n",
       "      <th>min</th>\n",
       "      <td>10248.000000</td>\n",
       "      <td>7.000000</td>\n",
       "      <td>26.600000</td>\n",
       "      <td>1.000000</td>\n",
       "      <td>0.000000</td>\n",
       "    </tr>\n",
       "    <tr>\n",
       "      <th>25%</th>\n",
       "      <td>10484.500000</td>\n",
       "      <td>26.000000</td>\n",
       "      <td>32.000000</td>\n",
       "      <td>10.000000</td>\n",
       "      <td>0.000000</td>\n",
       "    </tr>\n",
       "    <tr>\n",
       "      <th>50%</th>\n",
       "      <td>10690.500000</td>\n",
       "      <td>51.000000</td>\n",
       "      <td>38.000000</td>\n",
       "      <td>20.000000</td>\n",
       "      <td>0.000000</td>\n",
       "    </tr>\n",
       "    <tr>\n",
       "      <th>75%</th>\n",
       "      <td>10875.500000</td>\n",
       "      <td>61.000000</td>\n",
       "      <td>49.300000</td>\n",
       "      <td>30.000000</td>\n",
       "      <td>0.100000</td>\n",
       "    </tr>\n",
       "    <tr>\n",
       "      <th>max</th>\n",
       "      <td>11077.000000</td>\n",
       "      <td>72.000000</td>\n",
       "      <td>263.500000</td>\n",
       "      <td>130.000000</td>\n",
       "      <td>0.250000</td>\n",
       "    </tr>\n",
       "  </tbody>\n",
       "</table>\n",
       "</div>"
      ],
      "text/plain": [
       "            OrderId   ProductId   UnitPrice    Quantity    Discount\n",
       "count    718.000000  718.000000  718.000000  718.000000  718.000000\n",
       "mean   10678.188022   43.752089   50.474067   24.303621    0.052340\n",
       "std      239.479933   20.727221   41.471170   19.936364    0.081578\n",
       "min    10248.000000    7.000000   26.600000    1.000000    0.000000\n",
       "25%    10484.500000   26.000000   32.000000   10.000000    0.000000\n",
       "50%    10690.500000   51.000000   38.000000   20.000000    0.000000\n",
       "75%    10875.500000   61.000000   49.300000   30.000000    0.100000\n",
       "max    11077.000000   72.000000  263.500000  130.000000    0.250000"
      ]
     },
     "execution_count": 75,
     "metadata": {},
     "output_type": "execute_result"
    }
   ],
   "source": [
    "print(df_high.shape)\n",
    "df_high.describe()"
   ]
  },
  {
   "cell_type": "code",
   "execution_count": 77,
   "metadata": {},
   "outputs": [],
   "source": [
    "#Cool – now we can create control and experiment groups for each group.\n",
    "df_low_c = df_low[df_low['Discount']==0.0]['Quantity']\n",
    "df_low_e = df_low[df_low['Discount']!=0.0]['Quantity']\n",
    "\n",
    "df_med_c = df_med[df_med['Discount']==0.0]['Quantity']\n",
    "df_med_e = df_med[df_med['Discount']!=0.0]['Quantity']\n",
    "\n",
    "df_high_c = df_high[df_high['Discount']==0.0]['Quantity']\n",
    "df_high_e = df_high[df_high['Discount']!=0.0]['Quantity']"
   ]
  },
  {
   "cell_type": "code",
   "execution_count": 78,
   "metadata": {},
   "outputs": [
    {
     "name": "stdout",
     "output_type": "stream",
     "text": [
      "21.761467889908257 25.731448763250885\n",
      "Dif in Means:  3.969980873342628\n"
     ]
    },
    {
     "name": "stderr",
     "output_type": "stream",
     "text": [
      "/Users/noahxdeutsch/anaconda3/envs/learn-env/lib/python3.6/site-packages/scipy/stats/stats.py:1713: FutureWarning: Using a non-tuple sequence for multidimensional indexing is deprecated; use `arr[tuple(seq)]` instead of `arr[seq]`. In the future this will be interpreted as an array index, `arr[np.array(seq)]`, which will result either in an error or a different result.\n",
      "  return np.add.reduce(sorted[indexer] * weights, axis=axis) / sumval\n"
     ]
    },
    {
     "data": {
      "text/plain": [
       "<matplotlib.axes._subplots.AxesSubplot at 0x1a1d47b978>"
      ]
     },
     "execution_count": 78,
     "metadata": {},
     "output_type": "execute_result"
    },
    {
     "data": {
      "image/png": "[encoded data removed]",
      "text/plain": [
       "<Figure size 432x288 with 1 Axes>"
      ]
     },
     "metadata": {
      "needs_background": "light"
     },
     "output_type": "display_data"
    }
   ],
   "source": [
    "#lets look at means and distplots\n",
    "\n",
    "print(df_low_c.mean(), df_low_e.mean())\n",
    "print(\"Dif in Means: \",df_low_e.mean()-df_low_c.mean())\n",
    "sns.distplot(df_low_c)\n",
    "sns.distplot(df_low_e)"
   ]
  },
  {
   "cell_type": "code",
   "execution_count": 79,
   "metadata": {},
   "outputs": [
    {
     "name": "stdout",
     "output_type": "stream",
     "text": [
      "21.046838407494146 27.869415807560138\n",
      "Dif in Means:  6.822577400065992\n"
     ]
    },
    {
     "name": "stderr",
     "output_type": "stream",
     "text": [
      "/Users/noahxdeutsch/anaconda3/envs/learn-env/lib/python3.6/site-packages/scipy/stats/stats.py:1713: FutureWarning: Using a non-tuple sequence for multidimensional indexing is deprecated; use `arr[tuple(seq)]` instead of `arr[seq]`. In the future this will be interpreted as an array index, `arr[np.array(seq)]`, which will result either in an error or a different result.\n",
      "  return np.add.reduce(sorted[indexer] * weights, axis=axis) / sumval\n"
     ]
    },
    {
     "data": {
      "text/plain": [
       "<matplotlib.axes._subplots.AxesSubplot at 0x1a1d589d30>"
      ]
     },
     "execution_count": 79,
     "metadata": {},
     "output_type": "execute_result"
    },
    {
     "data": {
      "image/png": "[encoded data removed]",
      "text/plain": [
       "<Figure size 432x288 with 1 Axes>"
      ]
     },
     "metadata": {
      "needs_background": "light"
     },
     "output_type": "display_data"
    }
   ],
   "source": [
    "print(df_med_c.mean(), df_med_e.mean())\n",
    "print(\"Dif in Means: \",df_med_e.mean()-df_med_c.mean())\n",
    "sns.distplot(df_med_c)\n",
    "sns.distplot(df_med_e)"
   ]
  },
  {
   "cell_type": "code",
   "execution_count": 80,
   "metadata": {},
   "outputs": [
    {
     "name": "stdout",
     "output_type": "stream",
     "text": [
      "22.29955947136564 27.75\n",
      "Dif in Means:  5.45044052863436\n"
     ]
    },
    {
     "name": "stderr",
     "output_type": "stream",
     "text": [
      "/Users/noahxdeutsch/anaconda3/envs/learn-env/lib/python3.6/site-packages/scipy/stats/stats.py:1713: FutureWarning: Using a non-tuple sequence for multidimensional indexing is deprecated; use `arr[tuple(seq)]` instead of `arr[seq]`. In the future this will be interpreted as an array index, `arr[np.array(seq)]`, which will result either in an error or a different result.\n",
      "  return np.add.reduce(sorted[indexer] * weights, axis=axis) / sumval\n"
     ]
    },
    {
     "data": {
      "text/plain": [
       "<matplotlib.axes._subplots.AxesSubplot at 0x1a1d6b95f8>"
      ]
     },
     "execution_count": 80,
     "metadata": {},
     "output_type": "execute_result"
    },
    {
     "data": {
      "image/png": "[encoded data removed]",
      "text/plain": [
       "<Figure size 432x288 with 1 Axes>"
      ]
     },
     "metadata": {
      "needs_background": "light"
     },
     "output_type": "display_data"
    }
   ],
   "source": [
    "print(df_high_c.mean(), df_high_e.mean())\n",
    "print(\"Dif in Means: \",df_high_e.mean()-df_high_c.mean())\n",
    "sns.distplot(df_high_c)\n",
    "sns.distplot(df_high_e)"
   ]
  },
  {
   "cell_type": "code",
   "execution_count": 38,
   "metadata": {},
   "outputs": [],
   "source": [
    "#Observations\n",
    "    #The difference in means is highest for the Med priced group\n",
    "    #Second highest difference is the high priced group\n",
    "    #Lowest difference is in the low priced group"
   ]
  },
  {
   "cell_type": "code",
   "execution_count": 81,
   "metadata": {},
   "outputs": [
    {
     "name": "stdout",
     "output_type": "stream",
     "text": [
      "Low Unit Price Group\n",
      "PValue =  0.01\n",
      "Cohens D =  0.22\n",
      "\n",
      "\n",
      "Med Unit Price Group\n",
      "PValue =  0.0\n",
      "Cohens D =  0.37\n",
      "\n",
      "\n",
      "High Unit Price Group\n",
      "PValue =  0.0\n",
      "Cohens D =  0.28\n"
     ]
    }
   ],
   "source": [
    "#Great – now let's repeat our T Tests for each group pair.\n",
    "\n",
    "stat,pval = stats.ttest_ind(df_low_e,df_low_c,equal_var=False)\n",
    "co_d = Cohen_d(df_low_e, df_low_c)\n",
    "print('Low Unit Price Group')\n",
    "print('PValue = ',round(pval,2))\n",
    "print(\"Cohens D = \",round(co_d,2))\n",
    "print('\\n')\n",
    "\n",
    "stat,pval = stats.ttest_ind(df_med_e,df_med_c,equal_var=False)\n",
    "co_d = Cohen_d(df_med_e, df_med_c)\n",
    "print('Med Unit Price Group')\n",
    "print('PValue = ',round(pval,2))\n",
    "print(\"Cohens D = \",round(co_d,2))\n",
    "print('\\n')\n",
    "\n",
    "stat,pval = stats.ttest_ind(df_high_e,df_high_c,equal_var=False)\n",
    "co_d = Cohen_d(df_high_e, df_high_c)\n",
    "print('High Unit Price Group')\n",
    "print('PValue = ',round(pval,2))\n",
    "print(\"Cohens D = \",round(co_d,2))\n"
   ]
  },
  {
   "cell_type": "code",
   "execution_count": 82,
   "metadata": {},
   "outputs": [],
   "source": [
    "#All low P values. \n",
    "#Effect sizes mirror the differences between means"
   ]
  },
  {
   "cell_type": "markdown",
   "metadata": {},
   "source": [
    "### Based on this, I conclude that discounts have a higher effect on number of products ordered for products that are in the \"medium\" price range (~$14-26)\n",
    "\n",
    "### Discounts are least effective for \"low\" priced products (under $14) and are slightly more effective for \"high\" priced products(26+)\n",
    "\n",
    "### However, discounts should still be considered effective for increasing the number of products ordered for products in all price ranges (all had a cohen's d > .2)\n",
    "\n",
    "---\n"
   ]
  },
  {
   "cell_type": "markdown",
   "metadata": {},
   "source": [
    "# Thank you!\n",
    "\n",
    "### Noah Deutsch"
   ]
  }
 ],
 "metadata": {
  "kernelspec": {
   "display_name": "learn-env",
   "language": "python",
   "name": "learn-env"
  },
  "language_info": {
   "codemirror_mode": {
    "name": "ipython",
    "version": 3
   },
   "file_extension": ".py",
   "mimetype": "text/x-python",
   "name": "python",
   "nbconvert_exporter": "python",
   "pygments_lexer": "ipython3",
   "version": "3.6.6"
  }
 },
 "nbformat": 4,
 "nbformat_minor": 2
}
